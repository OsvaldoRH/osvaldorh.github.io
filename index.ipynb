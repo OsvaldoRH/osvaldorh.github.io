{
  "cells": [
    {
      "cell_type": "raw",
      "metadata": {},
      "source": [
        "---\n",
        "title: Osvaldo Rodríguez\n",
        "image: foto.jpeg\n",
        "about:\n",
        "  template: trestles\n",
        "  image-shape: round\n",
        "  image-width: 23em\n",
        "  links:\n",
        "    - text: LinkedIn\n",
        "      href: 'https://www.linkedin.com/in/osvaldo-rodriguez-395a5874/'\n",
        "    - text: Twitter\n",
        "      href: 'https://twitter.com/osvaldo_rh_'\n",
        "    - text: Email\n",
        "      href: 'mailto:osroh@ier.unam.mx'\n",
        "    - text: Google Scholar\n",
        "      href: 'https://scholar.google.com/citations?user=rnDPvkQAAAAJ&hl=es'\n",
        "    - text: ORCID\n",
        "      href: 'https://orcid.org/0000-0002-6567-4669'\n",
        "    - text: ResearcherID\n",
        "      href: 'https://www.webofscience.com/wos/author/record/M-4989-2015'\n",
        "    - text: Scopus\n",
        "      href: 'https://www.scopus.com/authid/detail.uri?authorId=55318356400'\n",
        "echo: false\n",
        "---"
      ],
      "id": "a86002bb"
    },
    {
      "cell_type": "code",
      "metadata": {},
      "source": [
        "import docx2txt\n",
        "import string\n",
        "import nltk\n",
        "from nltk.stem import WordNetLemmatizer\n",
        "import wordcloud\n",
        "import matplotlib.pyplot as plt\n",
        "fullText = \"\"\n",
        "fullText += docx2txt.process(\"abstracts.docx\")\n",
        "lemmatizer = WordNetLemmatizer()\n",
        "nltk_stopwords = nltk.corpus.stopwords.words('english')\n",
        "\n",
        "bookLower = fullText.lower()\n",
        "bookLetters = bookLower.translate(str.maketrans('','', string.digits))\n",
        "bookLettersOnly = bookLetters.translate(str.maketrans('', '', string.punctuation))\n",
        "\n",
        "clean = [word for word in bookLettersOnly.split() if word not in nltk_stopwords]\n",
        "\n",
        "reduced = [lemmatizer.lemmatize(word) for word in clean]\n",
        "\n",
        "reducedText = ' '.join(reduced)\n",
        "\n",
        "wordcloud = wordcloud.WordCloud(max_font_size=100, max_words=50, collocations=False, background_color='white',colormap='ocean',width=700, height=700).generate(reducedText)\n",
        "plt.figure(facecolor='none')\n",
        "plt.imshow(wordcloud, interpolation=\"bilinear\")\n",
        "plt.axis(\"off\")\n",
        "plt.show()"
      ],
      "id": "06fd943d",
      "execution_count": null,
      "outputs": []
    },
    {
      "cell_type": "markdown",
      "metadata": {},
      "source": [
        "### Intereses\n",
        "\n",
        "Evaluación del recurso eólico en aplicaciones de baja y gran potencia | Estudios de factibilidad tecno-económica | Modelos meteorológicos en análisis eólico | Estudios locales, regionales y Nacionales del recurso | Complementariedad de sistemas de generación variable\n",
        "\n",
        "### Semblanza\n",
        "Investigador de tiempo completo del Instituto de Energías Renovables en el Grupo de Energía Eólica. Es miembro del Sistema Nacional de Investigadores Nivel 1. Ha participado como expositor en congresos nacionales e internacionales y ha sido ganador en certámenes nacionales de ahorro de energía y sustentabilidad. Actualmente cuenta con colaboraciones con la Universidad Tecnológica de Delft en Países Bajos y la Universidad de Reading en Reino Unido, es responsable del Laboratorio de Sistemas Eólicos del IER y Responsable Técnico del proyecto 272063 del Fondo de Sustentabilidad Energética SENER-CONACyT cuya finalidad es contribuir en la formación de recursos humanos altamente especializados en investigación en Energía Eólica. Actualmente representa a los y las investigadoras del Instituto ante el H. Consejo Universitario de la UNAM.\n",
        "\n",
        "### Educación\n",
        "\n",
        "Físico |  Universidad Nacional Autónoma de México\n",
        "Dr. en Ingeniería en Energía  | Universidad Nacional Autónoma de México"
      ],
      "id": "8ff948d3"
    }
  ],
  "metadata": {
    "kernelspec": {
      "name": "python3",
      "language": "python",
      "display_name": "Python 3 (ipykernel)"
    }
  },
  "nbformat": 4,
  "nbformat_minor": 5
}